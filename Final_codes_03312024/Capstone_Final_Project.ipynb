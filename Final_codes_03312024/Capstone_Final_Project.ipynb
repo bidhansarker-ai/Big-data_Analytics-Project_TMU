{
  "cells": [
    {
      "cell_type": "markdown",
      "id": "7a5dc7c9-37fd-45e4-91a1-146ecc4c93cc",
      "metadata": {
        "id": "7a5dc7c9-37fd-45e4-91a1-146ecc4c93cc"
      },
      "source": [
        "# Load Datasets"
      ]
    },
    {
      "cell_type": "markdown",
      "id": "92555772-b922-43b5-84e8-c8b031af278b",
      "metadata": {
        "id": "92555772-b922-43b5-84e8-c8b031af278b"
      },
      "source": [
        "- Loaded the CSV files as DataFrames df1 and df2.\n",
        "- Concatenated these DataFrames into df_combined, ensuring all rows from both files are included.\n",
        "- Display the first few rows of the combined DataFrame to check the structure."
      ]
    },
    {
      "cell_type": "code",
      "execution_count": null,
      "id": "c452e899-a826-4a4b-a23c-d5687ff140da",
      "metadata": {
        "id": "c452e899-a826-4a4b-a23c-d5687ff140da",
        "outputId": "7423a544-e74c-48fa-8b0b-5826d6c6027c"
      },
      "outputs": [
        {
          "data": {
            "text/plain": [
              "(                                       Staff Involved      ACF     ACL  \\\n",
              " 0   Staff normally paid from or shifted to adminis...     1.00    0.00   \n",
              " 1   Staff normally paid from or shifted to carryov...   639.00    8.00   \n",
              " 2   Staff normally paid from or shifted to reimbur...     0.00    2.00   \n",
              " 3                    Commissioned Corps (excepted) /1     5.00    0.00   \n",
              " 4    HHS officers appointed by the President (exempt)     1.00    0.00   \n",
              " 5   Activities required to ensure that fully funde...    55.00    0.00   \n",
              " 6                         Law enforcement activities.     0.00    0.00   \n",
              " 7     Orderly phase-down and suspension of operations    19.00   12.00   \n",
              " 8                                               Other     0.00    0.00   \n",
              " 9                             Staff to be furloughed.   719.00  157.00   \n",
              " 10                        Subtotal, authorized by law  1439.00  179.00   \n",
              " 11  Direct medical services provided through clini...     0.00    0.00   \n",
              " 12                                              Other    14.00    0.00   \n",
              " 13                             Maintain computer data     0.00    0.00   \n",
              " 14  Maintenance of animals & protection of inanima...     2.00    0.00   \n",
              " 15                                              Other     0.00    0.00   \n",
              " 16               Protect ongoing medical experiments.     0.00    0.00   \n",
              " 17  Subtotal, safety of human life and protection ...    16.00    0.00   \n",
              " 18                            Total on board staffing  1455.00  179.00   \n",
              " 19               Total number of staff to be retained   736.00   22.00   \n",
              " 20                                             Exempt   641.00   10.00   \n",
              " 21                                           Excepted    95.00   12.00   \n",
              " 22                Number of staff to be furloughed /2   719.00  157.00   \n",
              " 23                                   Percent Retained     0.51    0.12   \n",
              " 24                                     Percent Exempt     0.44    0.06   \n",
              " 25                                   Percent Excepted     0.07    0.07   \n",
              " 26                                 Percent Furloughed     0.49    0.88   \n",
              " 27                      Life & Property as % Excepted     0.01    0.00   \n",
              " \n",
              "       AHRQ     ASPR       CDC      CMS       FDA     HRSA       IHS       NIH  \\\n",
              " 0     0.00     0.00     75.00  1662.00      0.00   792.00     61.00      0.00   \n",
              " 1    13.00   428.00   2303.00   525.00  11714.00   523.00    258.00    230.00   \n",
              " 2     0.00     0.00    137.00     0.00     67.00     0.00  11766.00      0.00   \n",
              " 3     5.00   118.00    643.00   103.00    245.00    73.00   1524.00    193.00   \n",
              " 4     0.00     1.00      0.00     1.00      1.00     0.00      0.00      1.00   \n",
              " 5     0.00     0.00    669.00   125.00    268.00    69.00    415.00    104.00   \n",
              " 6     0.00     0.00      0.00     0.00     11.00     0.00      0.00     68.00   \n",
              " 7     6.00     3.00    337.00   100.00     10.00    66.00     37.00    255.00   \n",
              " 8     0.00     1.00     42.00     0.00      0.00     0.00      0.00     95.00   \n",
              " 9   252.00     0.00   7693.00  3297.00   3595.00  1282.00    554.00  14687.00   \n",
              " 10  276.00   551.00  11899.00  6367.00  15943.00  2837.00  14615.00  15633.00   \n",
              " 11    0.00   156.00     32.00     0.00      0.00     7.00    203.00   2219.00   \n",
              " 12    0.00   362.00   1798.00     0.00   2830.00     0.00      0.00      0.00   \n",
              " 13    0.00     0.00    115.00     0.00      7.00     5.00    157.00    148.00   \n",
              " 14    0.00     0.00     80.00     0.00     15.00     0.00     37.00    623.00   \n",
              " 15    0.00     0.00     59.00     0.00      0.00     3.00      0.00      0.00   \n",
              " 16    0.00     0.00     67.00     0.00     77.00     7.00      0.00    607.00   \n",
              " 17    0.00   518.00   2151.00     0.00   2929.00    22.00    397.00   3597.00   \n",
              " 18  276.00  1069.00  14050.00  6367.00  18872.00  2859.00  15012.00  19230.00   \n",
              " 19   24.00  1069.00   6357.00  3070.00  15277.00  1577.00  14458.00   4543.00   \n",
              " 20   13.00   429.00   2515.00  2742.00  12058.00  1347.00  12085.00    231.00   \n",
              " 21   11.00   640.00   3842.00   328.00   3219.00   230.00   2373.00   4312.00   \n",
              " 22  252.00     0.00   7693.00  3297.00   3595.00  1282.00    554.00  14687.00   \n",
              " 23    0.09     1.00      0.45     0.48      0.81     0.55      0.96      0.24   \n",
              " 24    0.05     0.40      0.18     0.43      0.64     0.47      0.81      0.01   \n",
              " 25    0.04     0.60      0.27     0.05      0.17     0.08      0.16      0.22   \n",
              " 26    0.91     0.00      0.55     0.52      0.19     0.45      0.04      0.76   \n",
              " 27    0.00     0.48      0.15     0.00      0.16     0.01      0.03      0.19   \n",
              " \n",
              "          OS  SAMHSA      TOTAL  \n",
              " 0   1655.00     0.0   4246.000  \n",
              " 1   1717.00     0.0  18358.000  \n",
              " 2     19.00     0.0  11991.000  \n",
              " 3    228.00    36.0   3173.000  \n",
              " 4      9.00     1.0     15.000  \n",
              " 5    217.00     0.0   1922.000  \n",
              " 6      0.00     0.0     79.000  \n",
              " 7    173.00    27.0   1045.000  \n",
              " 8     79.00     0.0    217.000  \n",
              " 9   2264.00   574.0  35074.000  \n",
              " 10  6361.00   638.0  76738.000  \n",
              " 11   156.00     0.0   2773.000  \n",
              " 12   375.00     2.0   5381.000  \n",
              " 13    26.00     0.0    458.000  \n",
              " 14    48.00     0.0    805.000  \n",
              " 15     0.00     0.0     62.000  \n",
              " 16     0.00     0.0    758.000  \n",
              " 17   605.00     2.0  10237.000  \n",
              " 18  6966.00   640.0  86975.000  \n",
              " 19  4702.00    66.0  51901.000  \n",
              " 20  3400.00     1.0  35472.000  \n",
              " 21  1302.00    65.0  16429.000  \n",
              " 22  2264.00   574.0  35074.000  \n",
              " 23     0.67     0.1      0.597  \n",
              " 24     0.49     0.0      0.408  \n",
              " 25     0.19     0.1      0.189  \n",
              " 26     0.33     0.9      0.403  \n",
              " 27     0.09     0.0      0.120  ,\n",
              "                                        Staff involved      ACF     ACL  \\\n",
              " 0   Staff normally paid from or shifted to adminis...    40.00    0.00   \n",
              " 1   Staff normally paid from or shifted to carryov...   599.00    9.00   \n",
              " 2   Staff normally paid from or shifted to reimbur...    13.00    3.00   \n",
              " 3   Staff normally paid from or shifted to user fe...     0.00    0.00   \n",
              " 4                       Commissioned Corps (excepted)     6.00    0.00   \n",
              " 5    HHS officers appointed by the President (exempt)     2.00    0.00   \n",
              " 6   Activities required to ensure that fully funde...    27.00    0.00   \n",
              " 7                         Law enforcement activities.     0.00    0.00   \n",
              " 8     Orderly phase-down and suspension of operations    43.00   12.00   \n",
              " 9                                               Other     0.00    0.00   \n",
              " 10                            Staff to be furloughed.   856.00  172.00   \n",
              " 11                        Subtotal, authorized by law  1586.00  196.00   \n",
              " 12  Direct medical services provided through clini...     0.00    0.00   \n",
              " 13                                              Other     0.00    0.00   \n",
              " 14                             Maintain computer data     2.00    0.00   \n",
              " 15  Maintenance of animals & protection of inanima...     0.00    0.00   \n",
              " 16                                              Other     0.00    0.00   \n",
              " 17               Protect ongoing medical experiments.     0.00    0.00   \n",
              " 18  Subtotal, safety of human life and protection ...     2.00    0.00   \n",
              " 19                            Total on board staffing  1588.00  196.00   \n",
              " 20               Total number of staff to be retained   732.00   24.00   \n",
              " 21                                             Exempt   654.00   12.00   \n",
              " 22                                           Excepted    78.00   12.00   \n",
              " 23                   Number of staff to be furloughed   856.00  172.00   \n",
              " 24                                   Percent Retained     0.46    0.12   \n",
              " 25                                     Percent Exempt     0.41    0.06   \n",
              " 26                                   Percent Excepted     0.05    0.06   \n",
              " 27                                 Percent Furloughed     0.54    0.88   \n",
              " 28                      Life & Property as % Excepted     0.00    0.00   \n",
              " \n",
              "       AHRQ  ARPA-H     ASPR       CDC      CMS       FDA     HRSA    IHS  \\\n",
              " 0     0.00       0     0.00     89.00  1924.00      0.00    62.00      0   \n",
              " 1    26.00      88   531.00   2379.00   531.00  12504.00  1141.00   8233   \n",
              " 2     0.00       0     0.00     85.00     0.00     59.00     0.00   6853   \n",
              " 3     0.00       0     0.00      0.00   556.00     31.00    38.00      0   \n",
              " 4     5.00       0   112.00    739.00    84.00    359.00    73.00      0   \n",
              " 5     0.00       0     1.00      0.00     1.00      1.00     0.00      0   \n",
              " 6     0.00       0     0.00    313.00   121.00    183.00    69.00      0   \n",
              " 7     0.00       0     0.00      0.00     0.00      0.00     0.00      0   \n",
              " 8     6.00       0     3.00    460.00     0.00     59.00    66.00      0   \n",
              " 9     0.00       0     0.00     61.00     0.00      0.00     0.00      0   \n",
              " 10  250.00       0   377.00  10120.00  3329.00   5059.00  1257.00      0   \n",
              " 11  287.00      88  1024.00  14246.00  6546.00  18255.00  2706.00  15086   \n",
              " 12    0.00       0     0.00      1.00     0.00      0.00     7.00      0   \n",
              " 13    0.00       0    54.00    530.00     0.00   1236.00     0.00      0   \n",
              " 14    0.00       0     0.00    161.00     0.00     14.00     5.00      0   \n",
              " 15    0.00       0     0.00     88.00     0.00     12.00     0.00      0   \n",
              " 16    0.00       0     0.00     66.00     0.00      0.00     3.00      0   \n",
              " 17    0.00       0     0.00     59.00     0.00    127.00     7.00      0   \n",
              " 18    0.00       0    54.00    905.00     0.00   1389.00    22.00      0   \n",
              " 19  287.00      88  1078.00  15151.00  6546.00  19644.00  2728.00  15086   \n",
              " 20   37.00      88   701.00   5031.00  3217.00  14585.00  1471.00  15086   \n",
              " 21   26.00      88   532.00   2553.00  3012.00  12595.00  1241.00  15086   \n",
              " 22   11.00       0   169.00   2478.00   205.00   1990.00   230.00      0   \n",
              " 23  250.00       0   377.00  10120.00  3329.00   5059.00  1257.00      0   \n",
              " 24    0.13       1     0.65      0.33     0.49      0.74     0.54      1   \n",
              " 25    0.09       1     0.49      0.17     0.46      0.64     0.45      1   \n",
              " 26    0.04       0     0.16      0.16     0.03      0.10     0.08      0   \n",
              " 27    0.87       0     0.35      0.67     0.51      0.26     0.46      0   \n",
              " 28    0.00       0     0.05      0.06     0.00      0.07     0.01      0   \n",
              " \n",
              "          NIH       OS  SAMHSA     TOTAL  \n",
              " 0       0.00  1565.00    0.00   3680.00  \n",
              " 1       5.00  1059.00   48.00  27153.00  \n",
              " 2       0.00    24.00    0.00   7037.00  \n",
              " 3       0.00     0.00    0.00    625.00  \n",
              " 4     173.00   137.00   41.00   1729.00  \n",
              " 5       1.00     8.00    1.00     15.00  \n",
              " 6      71.00   310.00    0.00   1094.00  \n",
              " 7      67.00     0.00    0.00     67.00  \n",
              " 8     252.00   202.00   38.00   1141.00  \n",
              " 9      69.00    79.00    0.00    209.00  \n",
              " 10  15139.00  2360.00  677.00  39596.00  \n",
              " 11  15777.00  5744.00  805.00  82346.00  \n",
              " 12   2314.00     0.00    0.00   2322.00  \n",
              " 13      0.00     1.00    3.00   1824.00  \n",
              " 14    197.00    49.00    0.00    428.00  \n",
              " 15    718.00    80.00    2.00    900.00  \n",
              " 16      0.00     0.00    0.00     69.00  \n",
              " 17    649.00     0.00    0.00    842.00  \n",
              " 18   3878.00   130.00    5.00   6385.00  \n",
              " 19  19655.00  5874.00  810.00  88731.00  \n",
              " 20   4516.00  3514.00  133.00  49135.00  \n",
              " 21      6.00  2656.00   49.00  38510.00  \n",
              " 22   4510.00   858.00   84.00  10625.00  \n",
              " 23  15139.00  2360.00  677.00  39596.00  \n",
              " 24      0.23     0.60    0.16      0.55  \n",
              " 25      0.00     0.45    0.06      0.43  \n",
              " 26      0.23     0.15    0.10      0.12  \n",
              " 27      0.77     0.40    0.84      0.45  \n",
              " 28      0.20     0.02    0.01      0.07  )"
            ]
          },
          "execution_count": 1,
          "metadata": {},
          "output_type": "execute_result"
        }
      ],
      "source": [
        "import pandas as pd\n",
        "\n",
        "# Paths to the CSV files\n",
        "path_2023 = './datasets/FY_2023_HHS_Contingency_Staffing_Plan_for_a_Lapse_in_Appropriation_20240320.csv'\n",
        "path_2024 = './datasets/FY_2024_HHS_Contingency_Staffing_Plan_for_a_Lapse_in_Appropriation_20240320.csv'\n",
        "\n",
        "# Reading the CSV files as DataFrames\n",
        "df1 = pd.read_csv(path_2023)\n",
        "df2 = pd.read_csv(path_2024)\n",
        "\n",
        "df1, df2"
      ]
    },
    {
      "cell_type": "markdown",
      "id": "3acd35bf-e5e4-4ea4-8ca6-d9d0e3400499",
      "metadata": {
        "id": "3acd35bf-e5e4-4ea4-8ca6-d9d0e3400499"
      },
      "source": [
        "** Concatenating Datasets **"
      ]
    },
    {
      "cell_type": "code",
      "execution_count": null,
      "id": "13d1d24e-86c2-449f-8b6f-c42604acc7cf",
      "metadata": {
        "id": "13d1d24e-86c2-449f-8b6f-c42604acc7cf",
        "outputId": "d094b0f8-32f7-4e31-a4c2-f278799ab676"
      },
      "outputs": [
        {
          "data": {
            "text/html": [
              "<div>\n",
              "<style scoped>\n",
              "    .dataframe tbody tr th:only-of-type {\n",
              "        vertical-align: middle;\n",
              "    }\n",
              "\n",
              "    .dataframe tbody tr th {\n",
              "        vertical-align: top;\n",
              "    }\n",
              "\n",
              "    .dataframe thead th {\n",
              "        text-align: right;\n",
              "    }\n",
              "</style>\n",
              "<table border=\"1\" class=\"dataframe\">\n",
              "  <thead>\n",
              "    <tr style=\"text-align: right;\">\n",
              "      <th></th>\n",
              "      <th>Staff Involved</th>\n",
              "      <th>ACF</th>\n",
              "      <th>ACL</th>\n",
              "      <th>AHRQ</th>\n",
              "      <th>ASPR</th>\n",
              "      <th>CDC</th>\n",
              "      <th>CMS</th>\n",
              "      <th>FDA</th>\n",
              "      <th>HRSA</th>\n",
              "      <th>IHS</th>\n",
              "      <th>NIH</th>\n",
              "      <th>OS</th>\n",
              "      <th>SAMHSA</th>\n",
              "      <th>TOTAL</th>\n",
              "      <th>Staff involved</th>\n",
              "      <th>ARPA-H</th>\n",
              "    </tr>\n",
              "  </thead>\n",
              "  <tbody>\n",
              "    <tr>\n",
              "      <th>0</th>\n",
              "      <td>Staff normally paid from or shifted to adminis...</td>\n",
              "      <td>1.0</td>\n",
              "      <td>0.0</td>\n",
              "      <td>0.0</td>\n",
              "      <td>0.0</td>\n",
              "      <td>75.0</td>\n",
              "      <td>1662.0</td>\n",
              "      <td>0.0</td>\n",
              "      <td>792.0</td>\n",
              "      <td>61.0</td>\n",
              "      <td>0.0</td>\n",
              "      <td>1655.0</td>\n",
              "      <td>0.0</td>\n",
              "      <td>4246.0</td>\n",
              "      <td>NaN</td>\n",
              "      <td>NaN</td>\n",
              "    </tr>\n",
              "    <tr>\n",
              "      <th>1</th>\n",
              "      <td>Staff normally paid from or shifted to carryov...</td>\n",
              "      <td>639.0</td>\n",
              "      <td>8.0</td>\n",
              "      <td>13.0</td>\n",
              "      <td>428.0</td>\n",
              "      <td>2303.0</td>\n",
              "      <td>525.0</td>\n",
              "      <td>11714.0</td>\n",
              "      <td>523.0</td>\n",
              "      <td>258.0</td>\n",
              "      <td>230.0</td>\n",
              "      <td>1717.0</td>\n",
              "      <td>0.0</td>\n",
              "      <td>18358.0</td>\n",
              "      <td>NaN</td>\n",
              "      <td>NaN</td>\n",
              "    </tr>\n",
              "    <tr>\n",
              "      <th>2</th>\n",
              "      <td>Staff normally paid from or shifted to reimbur...</td>\n",
              "      <td>0.0</td>\n",
              "      <td>2.0</td>\n",
              "      <td>0.0</td>\n",
              "      <td>0.0</td>\n",
              "      <td>137.0</td>\n",
              "      <td>0.0</td>\n",
              "      <td>67.0</td>\n",
              "      <td>0.0</td>\n",
              "      <td>11766.0</td>\n",
              "      <td>0.0</td>\n",
              "      <td>19.0</td>\n",
              "      <td>0.0</td>\n",
              "      <td>11991.0</td>\n",
              "      <td>NaN</td>\n",
              "      <td>NaN</td>\n",
              "    </tr>\n",
              "    <tr>\n",
              "      <th>3</th>\n",
              "      <td>Commissioned Corps (excepted) /1</td>\n",
              "      <td>5.0</td>\n",
              "      <td>0.0</td>\n",
              "      <td>5.0</td>\n",
              "      <td>118.0</td>\n",
              "      <td>643.0</td>\n",
              "      <td>103.0</td>\n",
              "      <td>245.0</td>\n",
              "      <td>73.0</td>\n",
              "      <td>1524.0</td>\n",
              "      <td>193.0</td>\n",
              "      <td>228.0</td>\n",
              "      <td>36.0</td>\n",
              "      <td>3173.0</td>\n",
              "      <td>NaN</td>\n",
              "      <td>NaN</td>\n",
              "    </tr>\n",
              "    <tr>\n",
              "      <th>4</th>\n",
              "      <td>HHS officers appointed by the President (exempt)</td>\n",
              "      <td>1.0</td>\n",
              "      <td>0.0</td>\n",
              "      <td>0.0</td>\n",
              "      <td>1.0</td>\n",
              "      <td>0.0</td>\n",
              "      <td>1.0</td>\n",
              "      <td>1.0</td>\n",
              "      <td>0.0</td>\n",
              "      <td>0.0</td>\n",
              "      <td>1.0</td>\n",
              "      <td>9.0</td>\n",
              "      <td>1.0</td>\n",
              "      <td>15.0</td>\n",
              "      <td>NaN</td>\n",
              "      <td>NaN</td>\n",
              "    </tr>\n",
              "  </tbody>\n",
              "</table>\n",
              "</div>"
            ],
            "text/plain": [
              "                                      Staff Involved    ACF  ACL  AHRQ   ASPR  \\\n",
              "0  Staff normally paid from or shifted to adminis...    1.0  0.0   0.0    0.0   \n",
              "1  Staff normally paid from or shifted to carryov...  639.0  8.0  13.0  428.0   \n",
              "2  Staff normally paid from or shifted to reimbur...    0.0  2.0   0.0    0.0   \n",
              "3                   Commissioned Corps (excepted) /1    5.0  0.0   5.0  118.0   \n",
              "4   HHS officers appointed by the President (exempt)    1.0  0.0   0.0    1.0   \n",
              "\n",
              "      CDC     CMS      FDA   HRSA      IHS    NIH      OS  SAMHSA    TOTAL  \\\n",
              "0    75.0  1662.0      0.0  792.0     61.0    0.0  1655.0     0.0   4246.0   \n",
              "1  2303.0   525.0  11714.0  523.0    258.0  230.0  1717.0     0.0  18358.0   \n",
              "2   137.0     0.0     67.0    0.0  11766.0    0.0    19.0     0.0  11991.0   \n",
              "3   643.0   103.0    245.0   73.0   1524.0  193.0   228.0    36.0   3173.0   \n",
              "4     0.0     1.0      1.0    0.0      0.0    1.0     9.0     1.0     15.0   \n",
              "\n",
              "  Staff involved  ARPA-H  \n",
              "0            NaN     NaN  \n",
              "1            NaN     NaN  \n",
              "2            NaN     NaN  \n",
              "3            NaN     NaN  \n",
              "4            NaN     NaN  "
            ]
          },
          "execution_count": 2,
          "metadata": {},
          "output_type": "execute_result"
        }
      ],
      "source": [
        "# Concatenating the DataFrames\n",
        "df_combined = pd.concat([df1, df2], ignore_index=True)\n",
        "\n",
        "# Display the first few rows of the combined DataFrame to ensure it looks correct\n",
        "df_combined.head()\n"
      ]
    },
    {
      "cell_type": "markdown",
      "id": "08301788-eb86-4196-b6af-3e8d1424c872",
      "metadata": {
        "id": "08301788-eb86-4196-b6af-3e8d1424c872"
      },
      "source": [
        "# Data Analysis"
      ]
    },
    {
      "cell_type": "code",
      "execution_count": null,
      "id": "d9c9ced7-d376-4417-bd5f-4108e417af7f",
      "metadata": {
        "id": "d9c9ced7-d376-4417-bd5f-4108e417af7f",
        "outputId": "2b109bc7-5d46-4abc-897d-986d2e0d3367"
      },
      "outputs": [
        {
          "name": "stdout",
          "output_type": "stream",
          "text": [
            "<class 'pandas.core.frame.DataFrame'>\n",
            "RangeIndex: 57 entries, 0 to 56\n",
            "Data columns (total 16 columns):\n",
            " #   Column          Non-Null Count  Dtype  \n",
            "---  ------          --------------  -----  \n",
            " 0   Staff Involved  28 non-null     object \n",
            " 1   ACF             57 non-null     float64\n",
            " 2   ACL             57 non-null     float64\n",
            " 3   AHRQ            57 non-null     float64\n",
            " 4   ASPR            57 non-null     float64\n",
            " 5   CDC             57 non-null     float64\n",
            " 6   CMS             57 non-null     float64\n",
            " 7   FDA             57 non-null     float64\n",
            " 8   HRSA            57 non-null     float64\n",
            " 9   IHS             57 non-null     float64\n",
            " 10  NIH             57 non-null     float64\n",
            " 11  OS              57 non-null     float64\n",
            " 12  SAMHSA          57 non-null     float64\n",
            " 13  TOTAL           57 non-null     float64\n",
            " 14  Staff involved  29 non-null     object \n",
            " 15  ARPA-H          29 non-null     float64\n",
            "dtypes: float64(14), object(2)\n",
            "memory usage: 7.3+ KB\n"
          ]
        },
        {
          "data": {
            "text/html": [
              "<div>\n",
              "<style scoped>\n",
              "    .dataframe tbody tr th:only-of-type {\n",
              "        vertical-align: middle;\n",
              "    }\n",
              "\n",
              "    .dataframe tbody tr th {\n",
              "        vertical-align: top;\n",
              "    }\n",
              "\n",
              "    .dataframe thead th {\n",
              "        text-align: right;\n",
              "    }\n",
              "</style>\n",
              "<table border=\"1\" class=\"dataframe\">\n",
              "  <thead>\n",
              "    <tr style=\"text-align: right;\">\n",
              "      <th></th>\n",
              "      <th>ACF</th>\n",
              "      <th>ACL</th>\n",
              "      <th>AHRQ</th>\n",
              "      <th>ASPR</th>\n",
              "      <th>CDC</th>\n",
              "      <th>CMS</th>\n",
              "      <th>FDA</th>\n",
              "      <th>HRSA</th>\n",
              "      <th>IHS</th>\n",
              "      <th>NIH</th>\n",
              "      <th>OS</th>\n",
              "      <th>SAMHSA</th>\n",
              "      <th>TOTAL</th>\n",
              "      <th>ARPA-H</th>\n",
              "    </tr>\n",
              "  </thead>\n",
              "  <tbody>\n",
              "    <tr>\n",
              "      <th>count</th>\n",
              "      <td>57.000000</td>\n",
              "      <td>57.000000</td>\n",
              "      <td>57.000000</td>\n",
              "      <td>57.000000</td>\n",
              "      <td>57.000000</td>\n",
              "      <td>57.000000</td>\n",
              "      <td>57.000000</td>\n",
              "      <td>57.000000</td>\n",
              "      <td>57.000000</td>\n",
              "      <td>57.000000</td>\n",
              "      <td>57.000000</td>\n",
              "      <td>57.000000</td>\n",
              "      <td>57.000000</td>\n",
              "      <td>29.000000</td>\n",
              "    </tr>\n",
              "    <tr>\n",
              "      <th>mean</th>\n",
              "      <td>239.350526</td>\n",
              "      <td>27.162281</td>\n",
              "      <td>40.617895</td>\n",
              "      <td>181.792632</td>\n",
              "      <td>2249.034912</td>\n",
              "      <td>1006.806491</td>\n",
              "      <td>3226.276842</td>\n",
              "      <td>445.036842</td>\n",
              "      <td>2630.526316</td>\n",
              "      <td>2887.751754</td>\n",
              "      <td>1045.252456</td>\n",
              "      <td>105.285439</td>\n",
              "      <td>14092.023456</td>\n",
              "      <td>15.241379</td>\n",
              "    </tr>\n",
              "    <tr>\n",
              "      <th>std</th>\n",
              "      <td>446.523054</td>\n",
              "      <td>61.144675</td>\n",
              "      <td>92.491241</td>\n",
              "      <td>313.906054</td>\n",
              "      <td>4070.151799</td>\n",
              "      <td>1874.675742</td>\n",
              "      <td>5811.927329</td>\n",
              "      <td>807.264665</td>\n",
              "      <td>5298.565736</td>\n",
              "      <td>5644.527763</td>\n",
              "      <td>1798.900507</td>\n",
              "      <td>235.575444</td>\n",
              "      <td>23953.175952</td>\n",
              "      <td>33.798410</td>\n",
              "    </tr>\n",
              "    <tr>\n",
              "      <th>min</th>\n",
              "      <td>0.000000</td>\n",
              "      <td>0.000000</td>\n",
              "      <td>0.000000</td>\n",
              "      <td>0.000000</td>\n",
              "      <td>0.000000</td>\n",
              "      <td>0.000000</td>\n",
              "      <td>0.000000</td>\n",
              "      <td>0.000000</td>\n",
              "      <td>0.000000</td>\n",
              "      <td>0.000000</td>\n",
              "      <td>0.000000</td>\n",
              "      <td>0.000000</td>\n",
              "      <td>0.070000</td>\n",
              "      <td>0.000000</td>\n",
              "    </tr>\n",
              "    <tr>\n",
              "      <th>25%</th>\n",
              "      <td>0.000000</td>\n",
              "      <td>0.000000</td>\n",
              "      <td>0.000000</td>\n",
              "      <td>0.000000</td>\n",
              "      <td>0.670000</td>\n",
              "      <td>0.000000</td>\n",
              "      <td>0.260000</td>\n",
              "      <td>0.080000</td>\n",
              "      <td>0.000000</td>\n",
              "      <td>0.230000</td>\n",
              "      <td>0.450000</td>\n",
              "      <td>0.000000</td>\n",
              "      <td>69.000000</td>\n",
              "      <td>0.000000</td>\n",
              "    </tr>\n",
              "    <tr>\n",
              "      <th>50%</th>\n",
              "      <td>2.000000</td>\n",
              "      <td>0.000000</td>\n",
              "      <td>0.000000</td>\n",
              "      <td>0.600000</td>\n",
              "      <td>115.000000</td>\n",
              "      <td>0.490000</td>\n",
              "      <td>59.000000</td>\n",
              "      <td>7.000000</td>\n",
              "      <td>0.040000</td>\n",
              "      <td>104.000000</td>\n",
              "      <td>80.000000</td>\n",
              "      <td>0.160000</td>\n",
              "      <td>1729.000000</td>\n",
              "      <td>0.000000</td>\n",
              "    </tr>\n",
              "    <tr>\n",
              "      <th>75%</th>\n",
              "      <td>95.000000</td>\n",
              "      <td>12.000000</td>\n",
              "      <td>11.000000</td>\n",
              "      <td>362.000000</td>\n",
              "      <td>2379.000000</td>\n",
              "      <td>556.000000</td>\n",
              "      <td>3219.000000</td>\n",
              "      <td>523.000000</td>\n",
              "      <td>554.000000</td>\n",
              "      <td>2314.000000</td>\n",
              "      <td>1565.000000</td>\n",
              "      <td>41.000000</td>\n",
              "      <td>16429.000000</td>\n",
              "      <td>0.000000</td>\n",
              "    </tr>\n",
              "    <tr>\n",
              "      <th>max</th>\n",
              "      <td>1588.000000</td>\n",
              "      <td>196.000000</td>\n",
              "      <td>287.000000</td>\n",
              "      <td>1078.000000</td>\n",
              "      <td>15151.000000</td>\n",
              "      <td>6546.000000</td>\n",
              "      <td>19644.000000</td>\n",
              "      <td>2859.000000</td>\n",
              "      <td>15086.000000</td>\n",
              "      <td>19655.000000</td>\n",
              "      <td>6966.000000</td>\n",
              "      <td>810.000000</td>\n",
              "      <td>88731.000000</td>\n",
              "      <td>88.000000</td>\n",
              "    </tr>\n",
              "  </tbody>\n",
              "</table>\n",
              "</div>"
            ],
            "text/plain": [
              "               ACF         ACL        AHRQ         ASPR           CDC  \\\n",
              "count    57.000000   57.000000   57.000000    57.000000     57.000000   \n",
              "mean    239.350526   27.162281   40.617895   181.792632   2249.034912   \n",
              "std     446.523054   61.144675   92.491241   313.906054   4070.151799   \n",
              "min       0.000000    0.000000    0.000000     0.000000      0.000000   \n",
              "25%       0.000000    0.000000    0.000000     0.000000      0.670000   \n",
              "50%       2.000000    0.000000    0.000000     0.600000    115.000000   \n",
              "75%      95.000000   12.000000   11.000000   362.000000   2379.000000   \n",
              "max    1588.000000  196.000000  287.000000  1078.000000  15151.000000   \n",
              "\n",
              "               CMS           FDA         HRSA           IHS           NIH  \\\n",
              "count    57.000000     57.000000    57.000000     57.000000     57.000000   \n",
              "mean   1006.806491   3226.276842   445.036842   2630.526316   2887.751754   \n",
              "std    1874.675742   5811.927329   807.264665   5298.565736   5644.527763   \n",
              "min       0.000000      0.000000     0.000000      0.000000      0.000000   \n",
              "25%       0.000000      0.260000     0.080000      0.000000      0.230000   \n",
              "50%       0.490000     59.000000     7.000000      0.040000    104.000000   \n",
              "75%     556.000000   3219.000000   523.000000    554.000000   2314.000000   \n",
              "max    6546.000000  19644.000000  2859.000000  15086.000000  19655.000000   \n",
              "\n",
              "                OS      SAMHSA         TOTAL     ARPA-H  \n",
              "count    57.000000   57.000000     57.000000  29.000000  \n",
              "mean   1045.252456  105.285439  14092.023456  15.241379  \n",
              "std    1798.900507  235.575444  23953.175952  33.798410  \n",
              "min       0.000000    0.000000      0.070000   0.000000  \n",
              "25%       0.450000    0.000000     69.000000   0.000000  \n",
              "50%      80.000000    0.160000   1729.000000   0.000000  \n",
              "75%    1565.000000   41.000000  16429.000000   0.000000  \n",
              "max    6966.000000  810.000000  88731.000000  88.000000  "
            ]
          },
          "execution_count": 3,
          "metadata": {},
          "output_type": "execute_result"
        }
      ],
      "source": [
        "# Data types and missing values\n",
        "data_info = df_combined.info()\n",
        "\n",
        "# Basic descriptive statistics for numerical columns\n",
        "descriptive_stats = df_combined.describe()\n",
        "\n",
        "descriptive_stats"
      ]
    },
    {
      "cell_type": "markdown",
      "id": "51d7d530-fd44-444f-890c-08d6636131fa",
      "metadata": {
        "id": "51d7d530-fd44-444f-890c-08d6636131fa"
      },
      "source": [
        "** Analytics Summary **\n",
        "- The combined dataset contains 57 rows and 16 columns.\n",
        "- There are 14 numerical columns (ACF, ACL, AHRQ, ASPR, CDC, CMS, FDA, HRSA, IHS, NIH, OS, SAMHSA, TOTAL, ARPA-H) and 2 textual columns (Staff Involved and Staff involved). It seems like there might be an inconsistency in the naming of the Staff Involved columns across the two years.\n",
        "- ARPA-H has data for only 29 entries, indicating it might not have been included in one of the fiscal year's datasets.\n",
        "- The describe method shows basic statistics for the numerical columns. For example, the TOTAL column, which likely represents the total staff involved in some capacity, has values ranging from 0.07 to 88,731, showing a wide range of values.\n",
        "- Missing values are present, especially in the Staff Involved, Staff involved, and ARPA-H columns."
      ]
    },
    {
      "cell_type": "markdown",
      "id": "73f98bbb-f12c-43de-9cd6-d9532beb7560",
      "metadata": {
        "id": "73f98bbb-f12c-43de-9cd6-d9532beb7560"
      },
      "source": [
        "# Visualizations"
      ]
    },
    {
      "cell_type": "code",
      "execution_count": null,
      "id": "5dd8c8ba-6271-4e07-bf62-2b99d85cccd9",
      "metadata": {
        "id": "5dd8c8ba-6271-4e07-bf62-2b99d85cccd9"
      },
      "outputs": [],
      "source": [
        "import matplotlib.pyplot as plt\n",
        "import seaborn as sns\n",
        "\n",
        "# Setting the aesthetics for the plots\n",
        "sns.set_style(\"whitegrid\")"
      ]
    },
    {
      "cell_type": "code",
      "execution_count": null,
      "id": "bd2748d8-c50a-4447-a6c0-6ca8096ec19e",
      "metadata": {
        "id": "bd2748d8-c50a-4447-a6c0-6ca8096ec19e",
        "outputId": "51b2b1ee-e2e0-421b-dd9c-4f41ff5d98a0"
      },
      "outputs": [
        {
          "name": "stderr",
          "output_type": "stream",
          "text": [
            "C:\\ProgramData\\anaconda3\\Lib\\site-packages\\seaborn\\_oldcore.py:1119: FutureWarning: use_inf_as_na option is deprecated and will be removed in a future version. Convert inf values to NaN before operating instead.\n",
            "  with pd.option_context('mode.use_inf_as_na', True):\n"
          ]
        },
        {
          "data": {
            "image/png": "[encoded data removed]",
            "text/plain": [
              "<Figure size 1000x600 with 1 Axes>"
            ]
          },
          "metadata": {},
          "output_type": "display_data"
        }
      ],
      "source": [
        "# Histogram for the TOTAL column\n",
        "plt.figure(figsize=(10, 6))\n",
        "sns.histplot(df_combined['TOTAL'], bins=30, kde=True)\n",
        "plt.title('Distribution of Total Staffing Levels')\n",
        "plt.xlabel('Total Staff')\n",
        "plt.ylabel('Frequency')\n",
        "plt.show()"
      ]
    },
    {
      "cell_type": "code",
      "execution_count": null,
      "id": "22e258d6-f2ab-474e-903b-e6796eddf735",
      "metadata": {
        "id": "22e258d6-f2ab-474e-903b-e6796eddf735",
        "outputId": "4cc06fa0-c4d5-4e06-ac2e-e88bd8fa74ba"
      },
      "outputs": [
        {
          "data": {
            "image/png": "[encoded data removed]",
            "text/plain": [
              "<Figure size 1400x800 with 1 Axes>"
            ]
          },
          "metadata": {},
          "output_type": "display_data"
        }
      ],
      "source": [
        "# Box plots for a selection of departments\n",
        "plt.figure(figsize=(14, 8))\n",
        "selected_departments = ['ACF', 'CDC', 'NIH', 'CMS', 'FDA']\n",
        "sns.boxplot(data=df_combined[selected_departments])\n",
        "plt.title('Variations and Outliers in Staffing Levels Across Selected Departments')\n",
        "plt.ylabel('Staff Count')\n",
        "plt.show()"
      ]
    },
    {
      "cell_type": "code",
      "execution_count": null,
      "id": "d0ef3ba8-45f8-49b4-9728-3183a819dee6",
      "metadata": {
        "id": "d0ef3ba8-45f8-49b4-9728-3183a819dee6",
        "outputId": "9e77d022-42df-4395-e0ac-bc2c9dcde95c"
      },
      "outputs": [
        {
          "data": {
            "image/png": "[encoded data removed]",
            "text/plain": [
              "<Figure size 1400x800 with 1 Axes>"
            ]
          },
          "metadata": {},
          "output_type": "display_data"
        }
      ],
      "source": [
        "# Bar chart to compare average staffing levels across all departments\n",
        "plt.figure(figsize=(14, 8))\n",
        "department_means = df_combined.iloc[:, 1:-3].mean().sort_values(ascending=False) # Excluding TOTAL and ARPA-H\n",
        "sns.barplot(x=department_means.values, y=department_means.index)\n",
        "plt.title('Average Staffing Levels Across All Departments')\n",
        "plt.xlabel('Average Staff Count')\n",
        "plt.ylabel('Department')\n",
        "plt.show()"
      ]
    },
    {
      "cell_type": "markdown",
      "id": "12c94ad9-9198-4364-b992-4ac414a2aad2",
      "metadata": {
        "id": "12c94ad9-9198-4364-b992-4ac414a2aad2"
      },
      "source": [
        "** These visualizations provide several insights into the staffing data: **\n",
        "- Distribution of Total Staffing Levels: The histogram shows the distribution of total staffing levels across the dataset. The presence of a peak at the lower end of the scale suggests that many entries have relatively low total staffing levels, with a long tail indicating fewer instances of very high staffing levels.\n",
        "\n",
        "- Variations and Outliers in Staffing Levels Across Selected Departments: The box plots for selected departments (ACF, CDC, NIH, CMS, FDA) reveal the spread and outliers in staffing counts. This visualization helps in identifying departments with wide variations in staffing and any potential outliers.\n",
        "\n",
        "- Average Staffing Levels Across All Departments: The bar chart comparing the average staffing levels shows which departments have the highest and lowest average staffing. This provides a clear overview of how staffing resources are allocated across different departments."
      ]
    },
    {
      "cell_type": "markdown",
      "id": "e0fb1372-b6ef-449f-aae5-cbddec628de9",
      "metadata": {
        "id": "e0fb1372-b6ef-449f-aae5-cbddec628de9"
      },
      "source": [
        "# Supervised Learning"
      ]
    },
    {
      "cell_type": "markdown",
      "id": "442c25b8-9740-4526-8343-e8cc605e8738",
      "metadata": {
        "id": "442c25b8-9740-4526-8343-e8cc605e8738"
      },
      "source": [
        "## Data Cleaning and Preprocessing"
      ]
    },
    {
      "cell_type": "code",
      "execution_count": null,
      "id": "6c7e8d2c-a74f-476b-9129-357f9fe48667",
      "metadata": {
        "id": "6c7e8d2c-a74f-476b-9129-357f9fe48667",
        "outputId": "03fe73f0-9673-43c3-8dbb-c69f255c3d9f"
      },
      "outputs": [
        {
          "data": {
            "text/plain": [
              "(Staff Involved    29\n",
              " ACF                0\n",
              " ACL                0\n",
              " AHRQ               0\n",
              " ASPR               0\n",
              " CDC                0\n",
              " CMS                0\n",
              " FDA                0\n",
              " HRSA               0\n",
              " IHS                0\n",
              " NIH                0\n",
              " OS                 0\n",
              " SAMHSA             0\n",
              " TOTAL              0\n",
              " Staff involved    28\n",
              " ARPA-H            28\n",
              " dtype: int64,\n",
              " ACF                0\n",
              " ACL                0\n",
              " AHRQ               0\n",
              " ASPR               0\n",
              " CDC                0\n",
              " CMS                0\n",
              " FDA                0\n",
              " HRSA               0\n",
              " IHS                0\n",
              " NIH                0\n",
              " OS                 0\n",
              " SAMHSA             0\n",
              " TOTAL              0\n",
              " Staff involved    28\n",
              " ARPA-H             0\n",
              " dtype: int64)"
            ]
          },
          "execution_count": 8,
          "metadata": {},
          "output_type": "execute_result"
        }
      ],
      "source": [
        "concatenated_df = df_combined\n",
        "# Check for missing values\n",
        "missing_values = concatenated_df.isnull().sum()\n",
        "\n",
        "# Drop columns that are not needed or redundant\n",
        "# It appears there might be a duplicate or unnecessary column given the naming convention in the head() output\n",
        "cleaned_df = concatenated_df.drop(columns=['Staff Involved'], errors='ignore')\n",
        "\n",
        "# For simplicity, we will fill missing numeric values with the mean of their columns\n",
        "cleaned_df = cleaned_df.fillna(cleaned_df.mean(numeric_only=True))\n",
        "\n",
        "missing_values, cleaned_df.isnull().sum()\n"
      ]
    },
    {
      "cell_type": "markdown",
      "id": "71312677-cc6d-4a28-8cc0-b182d7300718",
      "metadata": {
        "id": "71312677-cc6d-4a28-8cc0-b182d7300718"
      },
      "source": [
        "## Feature Selection and Preprocessing"
      ]
    },
    {
      "cell_type": "code",
      "execution_count": null,
      "id": "7f710924-d0e2-48d7-b2c3-961e6b5c5b9c",
      "metadata": {
        "id": "7f710924-d0e2-48d7-b2c3-961e6b5c5b9c",
        "outputId": "1a9d6ac2-c396-40b3-f43d-41be313d6703"
      },
      "outputs": [
        {
          "data": {
            "text/plain": [
              "((45, 13), (12, 13))"
            ]
          },
          "execution_count": 9,
          "metadata": {},
          "output_type": "execute_result"
        }
      ],
      "source": [
        "from sklearn.model_selection import train_test_split\n",
        "from sklearn.preprocessing import StandardScaler\n",
        "\n",
        "# Define the features and target variable\n",
        "X = cleaned_df.drop(columns=['TOTAL', 'Staff involved'])  # Dropping 'TOTAL' and 'Staff involved'\n",
        "y = cleaned_df['TOTAL']\n",
        "\n",
        "# Split the data into training and testing sets\n",
        "X_train, X_test, y_train, y_test = train_test_split(X, y, test_size=0.2, random_state=42)\n",
        "\n",
        "# Scale the features\n",
        "scaler = StandardScaler()\n",
        "X_train_scaled = scaler.fit_transform(X_train)\n",
        "X_test_scaled = scaler.transform(X_test)\n",
        "\n",
        "X_train_scaled.shape, X_test_scaled.shape\n"
      ]
    },
    {
      "cell_type": "markdown",
      "id": "0ff17c57-2bab-498b-9cc1-6d5bf101202b",
      "metadata": {
        "id": "0ff17c57-2bab-498b-9cc1-6d5bf101202b"
      },
      "source": [
        "## Selecting and Training Regression Models"
      ]
    },
    {
      "cell_type": "code",
      "execution_count": null,
      "id": "c5d19bb9-a36d-486e-8bd9-a9010b517129",
      "metadata": {
        "id": "c5d19bb9-a36d-486e-8bd9-a9010b517129",
        "outputId": "abb82b40-f1f4-486d-8712-1d6ae1c9cf7e"
      },
      "outputs": [
        {
          "data": {
            "text/plain": [
              "{'Linear Regression': {'Mean Absolute Error': 6.381234219747185,\n",
              "  'R^2 Score': 0.9999999020978325},\n",
              " 'Random Forest Regressor': {'Mean Absolute Error': 1883.0839725000005,\n",
              "  'R^2 Score': 0.9878904428871689},\n",
              " 'Gradient Boosting Regressor': {'Mean Absolute Error': 2513.196093579621,\n",
              "  'R^2 Score': 0.9757937306924159}}"
            ]
          },
          "execution_count": 10,
          "metadata": {},
          "output_type": "execute_result"
        }
      ],
      "source": [
        "from sklearn.linear_model import LinearRegression\n",
        "from sklearn.ensemble import RandomForestRegressor\n",
        "from sklearn.ensemble import GradientBoostingRegressor\n",
        "from sklearn.metrics import mean_absolute_error, r2_score\n",
        "\n",
        "# Initialize the models\n",
        "models = {\n",
        "    \"Linear Regression\": LinearRegression(),\n",
        "    \"Random Forest Regressor\": RandomForestRegressor(random_state=42),\n",
        "    \"Gradient Boosting Regressor\": GradientBoostingRegressor(random_state=42)\n",
        "}\n",
        "\n",
        "# Dictionary to hold the predictions and performance of each model\n",
        "predictions = {}\n",
        "performance = {}\n",
        "\n",
        "# Train and evaluate each model\n",
        "for name, model in models.items():\n",
        "    # Train the model\n",
        "    model.fit(X_train_scaled, y_train)\n",
        "\n",
        "    # Make predictions on the testing set\n",
        "    y_pred = model.predict(X_test_scaled)\n",
        "\n",
        "    # Evaluate the model\n",
        "    mae = mean_absolute_error(y_test, y_pred)\n",
        "    r2 = r2_score(y_test, y_pred)\n",
        "\n",
        "    # Store the results\n",
        "    predictions[name] = y_pred\n",
        "    performance[name] = {\"Mean Absolute Error\": mae, \"R^2 Score\": r2}\n",
        "\n",
        "performance\n"
      ]
    },
    {
      "cell_type": "code",
      "execution_count": null,
      "id": "d2c67e1a-3025-4e72-a8cd-5c06112d2668",
      "metadata": {
        "id": "d2c67e1a-3025-4e72-a8cd-5c06112d2668",
        "outputId": "e0992262-ef99-4986-ba1e-677b17248e70"
      },
      "outputs": [
        {
          "data": {
            "text/html": [
              "<div>\n",
              "<style scoped>\n",
              "    .dataframe tbody tr th:only-of-type {\n",
              "        vertical-align: middle;\n",
              "    }\n",
              "\n",
              "    .dataframe tbody tr th {\n",
              "        vertical-align: top;\n",
              "    }\n",
              "\n",
              "    .dataframe thead th {\n",
              "        text-align: right;\n",
              "    }\n",
              "</style>\n",
              "<table border=\"1\" class=\"dataframe\">\n",
              "  <thead>\n",
              "    <tr style=\"text-align: right;\">\n",
              "      <th></th>\n",
              "      <th>MAE</th>\n",
              "      <th>R^2 Score (Raw)</th>\n",
              "      <th>R^2 Score (%)</th>\n",
              "    </tr>\n",
              "  </thead>\n",
              "  <tbody>\n",
              "    <tr>\n",
              "      <th>Linear Regression</th>\n",
              "      <td>6.38</td>\n",
              "      <td>1.00000</td>\n",
              "      <td>100.00</td>\n",
              "    </tr>\n",
              "    <tr>\n",
              "      <th>Random Forest Regressor</th>\n",
              "      <td>1883.08</td>\n",
              "      <td>0.98789</td>\n",
              "      <td>98.79</td>\n",
              "    </tr>\n",
              "    <tr>\n",
              "      <th>Gradient Boosting Regressor</th>\n",
              "      <td>2513.20</td>\n",
              "      <td>0.97579</td>\n",
              "      <td>97.58</td>\n",
              "    </tr>\n",
              "  </tbody>\n",
              "</table>\n",
              "</div>"
            ],
            "text/plain": [
              "                                 MAE  R^2 Score (Raw)  R^2 Score (%)\n",
              "Linear Regression               6.38          1.00000         100.00\n",
              "Random Forest Regressor      1883.08          0.98789          98.79\n",
              "Gradient Boosting Regressor  2513.20          0.97579          97.58"
            ]
          },
          "execution_count": 11,
          "metadata": {},
          "output_type": "execute_result"
        }
      ],
      "source": [
        "import pandas as pd\n",
        "\n",
        "# Convert the performance dictionary to a DataFrame for better visual representation\n",
        "performance_df = pd.DataFrame(performance).T\n",
        "performance_df['R^2 Score (%)'] = performance_df['R^2 Score'] * 100  # Convert R^2 score to percentage\n",
        "\n",
        "# Rename columns for clarity\n",
        "performance_df.rename(columns={'Mean Absolute Error': 'MAE', 'R^2 Score': 'R^2 Score (Raw)'}, inplace=True)\n",
        "\n",
        "# Select and order the columns for display\n",
        "performance_df = performance_df[['MAE', 'R^2 Score (Raw)', 'R^2 Score (%)']]\n",
        "\n",
        "# Round the values for better readability\n",
        "performance_df = performance_df.round({'MAE': 2, 'R^2 Score (Raw)': 5, 'R^2 Score (%)': 2})\n",
        "\n",
        "performance_df\n"
      ]
    },
    {
      "cell_type": "markdown",
      "id": "a0f54141-2fae-4e8b-9287-2aa0c3e8c58b",
      "metadata": {
        "id": "a0f54141-2fae-4e8b-9287-2aa0c3e8c58b"
      },
      "source": [
        "# UnSupervised Learning"
      ]
    },
    {
      "cell_type": "markdown",
      "id": "2b9e74cf-dd13-4f1a-8603-d3052c051c30",
      "metadata": {
        "id": "2b9e74cf-dd13-4f1a-8603-d3052c051c30"
      },
      "source": [
        "## Data Pre-Processing"
      ]
    },
    {
      "cell_type": "code",
      "execution_count": null,
      "id": "96df1f41-767a-4638-a40f-203e3078011e",
      "metadata": {
        "id": "96df1f41-767a-4638-a40f-203e3078011e"
      },
      "outputs": [],
      "source": [
        "from sklearn.preprocessing import StandardScaler"
      ]
    },
    {
      "cell_type": "code",
      "execution_count": null,
      "id": "4525fc26-025b-4dfd-ab7a-e0cb31b8aac4",
      "metadata": {
        "id": "4525fc26-025b-4dfd-ab7a-e0cb31b8aac4"
      },
      "outputs": [],
      "source": [
        "# Dropping the 'ARPA-H' column\n",
        "df_preprocessed = df_combined.drop(columns=['ARPA-H'])\n",
        "# df_preprocessed"
      ]
    },
    {
      "cell_type": "code",
      "execution_count": null,
      "id": "df00f9f4-0309-4bb9-8f1f-a1c3a49d227b",
      "metadata": {
        "id": "df00f9f4-0309-4bb9-8f1f-a1c3a49d227b"
      },
      "outputs": [],
      "source": [
        "# Dropping 'Staff Involved' columns as they are not predictive for ML modeling\n",
        "df_preprocessed = df_preprocessed.drop(columns=['Staff Involved', 'Staff involved'])\n",
        "# df_preprocessed"
      ]
    },
    {
      "cell_type": "code",
      "execution_count": null,
      "id": "02cc5b81-bfdd-4976-85c0-63b29032330b",
      "metadata": {
        "id": "02cc5b81-bfdd-4976-85c0-63b29032330b"
      },
      "outputs": [],
      "source": [
        "# Standardizing the numerical columns\n",
        "scaler = StandardScaler()\n",
        "df_preprocessed[df_preprocessed.columns] = scaler.fit_transform(df_preprocessed[df_preprocessed.columns])\n",
        "# df_preprocessed"
      ]
    },
    {
      "cell_type": "code",
      "execution_count": null,
      "id": "454a94fa-8984-4518-8657-451af0da79e5",
      "metadata": {
        "id": "454a94fa-8984-4518-8657-451af0da79e5",
        "outputId": "23c9e09d-2aba-48a6-c471-75100396564d"
      },
      "outputs": [
        {
          "data": {
            "text/html": [
              "<div>\n",
              "<style scoped>\n",
              "    .dataframe tbody tr th:only-of-type {\n",
              "        vertical-align: middle;\n",
              "    }\n",
              "\n",
              "    .dataframe tbody tr th {\n",
              "        vertical-align: top;\n",
              "    }\n",
              "\n",
              "    .dataframe thead th {\n",
              "        text-align: right;\n",
              "    }\n",
              "</style>\n",
              "<table border=\"1\" class=\"dataframe\">\n",
              "  <thead>\n",
              "    <tr style=\"text-align: right;\">\n",
              "      <th></th>\n",
              "      <th>ACF</th>\n",
              "      <th>ACL</th>\n",
              "      <th>AHRQ</th>\n",
              "      <th>ASPR</th>\n",
              "      <th>CDC</th>\n",
              "      <th>CMS</th>\n",
              "      <th>FDA</th>\n",
              "      <th>HRSA</th>\n",
              "      <th>IHS</th>\n",
              "      <th>NIH</th>\n",
              "      <th>OS</th>\n",
              "      <th>SAMHSA</th>\n",
              "      <th>TOTAL</th>\n",
              "    </tr>\n",
              "  </thead>\n",
              "  <tbody>\n",
              "    <tr>\n",
              "      <th>0</th>\n",
              "      <td>-0.538537</td>\n",
              "      <td>-0.448178</td>\n",
              "      <td>-0.443058</td>\n",
              "      <td>-0.584279</td>\n",
              "      <td>-0.538889</td>\n",
              "      <td>0.352604</td>\n",
              "      <td>-0.560048</td>\n",
              "      <td>0.433622</td>\n",
              "      <td>-0.489258</td>\n",
              "      <td>-0.516150</td>\n",
              "      <td>0.341969</td>\n",
              "      <td>-0.450902</td>\n",
              "      <td>-0.414707</td>\n",
              "    </tr>\n",
              "    <tr>\n",
              "      <th>1</th>\n",
              "      <td>0.902981</td>\n",
              "      <td>-0.316178</td>\n",
              "      <td>-0.301254</td>\n",
              "      <td>0.791307</td>\n",
              "      <td>0.013377</td>\n",
              "      <td>-0.259292</td>\n",
              "      <td>1.473379</td>\n",
              "      <td>0.097435</td>\n",
              "      <td>-0.451748</td>\n",
              "      <td>-0.475040</td>\n",
              "      <td>0.376741</td>\n",
              "      <td>-0.450902</td>\n",
              "      <td>0.179680</td>\n",
              "    </tr>\n",
              "    <tr>\n",
              "      <th>2</th>\n",
              "      <td>-0.540797</td>\n",
              "      <td>-0.415178</td>\n",
              "      <td>-0.443058</td>\n",
              "      <td>-0.584279</td>\n",
              "      <td>-0.523521</td>\n",
              "      <td>-0.541830</td>\n",
              "      <td>-0.548417</td>\n",
              "      <td>-0.556190</td>\n",
              "      <td>1.739467</td>\n",
              "      <td>-0.516150</td>\n",
              "      <td>-0.575560</td>\n",
              "      <td>-0.450902</td>\n",
              "      <td>-0.088493</td>\n",
              "    </tr>\n",
              "    <tr>\n",
              "      <th>3</th>\n",
              "      <td>-0.529499</td>\n",
              "      <td>-0.448178</td>\n",
              "      <td>-0.388518</td>\n",
              "      <td>-0.205029</td>\n",
              "      <td>-0.398096</td>\n",
              "      <td>-0.486399</td>\n",
              "      <td>-0.517518</td>\n",
              "      <td>-0.464958</td>\n",
              "      <td>-0.210691</td>\n",
              "      <td>-0.481653</td>\n",
              "      <td>-0.458345</td>\n",
              "      <td>-0.296726</td>\n",
              "      <td>-0.459901</td>\n",
              "    </tr>\n",
              "    <tr>\n",
              "      <th>4</th>\n",
              "      <td>-0.538537</td>\n",
              "      <td>-0.448178</td>\n",
              "      <td>-0.443058</td>\n",
              "      <td>-0.581065</td>\n",
              "      <td>-0.557480</td>\n",
              "      <td>-0.541292</td>\n",
              "      <td>-0.559874</td>\n",
              "      <td>-0.556190</td>\n",
              "      <td>-0.500873</td>\n",
              "      <td>-0.515971</td>\n",
              "      <td>-0.581168</td>\n",
              "      <td>-0.446619</td>\n",
              "      <td>-0.592913</td>\n",
              "    </tr>\n",
              "  </tbody>\n",
              "</table>\n",
              "</div>"
            ],
            "text/plain": [
              "        ACF       ACL      AHRQ      ASPR       CDC       CMS       FDA  \\\n",
              "0 -0.538537 -0.448178 -0.443058 -0.584279 -0.538889  0.352604 -0.560048   \n",
              "1  0.902981 -0.316178 -0.301254  0.791307  0.013377 -0.259292  1.473379   \n",
              "2 -0.540797 -0.415178 -0.443058 -0.584279 -0.523521 -0.541830 -0.548417   \n",
              "3 -0.529499 -0.448178 -0.388518 -0.205029 -0.398096 -0.486399 -0.517518   \n",
              "4 -0.538537 -0.448178 -0.443058 -0.581065 -0.557480 -0.541292 -0.559874   \n",
              "\n",
              "       HRSA       IHS       NIH        OS    SAMHSA     TOTAL  \n",
              "0  0.433622 -0.489258 -0.516150  0.341969 -0.450902 -0.414707  \n",
              "1  0.097435 -0.451748 -0.475040  0.376741 -0.450902  0.179680  \n",
              "2 -0.556190  1.739467 -0.516150 -0.575560 -0.450902 -0.088493  \n",
              "3 -0.464958 -0.210691 -0.481653 -0.458345 -0.296726 -0.459901  \n",
              "4 -0.556190 -0.500873 -0.515971 -0.581168 -0.446619 -0.592913  "
            ]
          },
          "execution_count": 16,
          "metadata": {},
          "output_type": "execute_result"
        }
      ],
      "source": [
        "# Display the first few rows of the preprocessed DataFrame to ensure the transformations are applied correctly\n",
        "df_preprocessed.head()"
      ]
    },
    {
      "cell_type": "markdown",
      "id": "6068313a-503e-4033-ac59-5db187cefb04",
      "metadata": {
        "id": "6068313a-503e-4033-ac59-5db187cefb04"
      },
      "source": [
        "** We have applied: **\n",
        "- Dropped the ARPA-H column: Considering it's not present for all fiscal years, and its absence may introduce bias.\n",
        "- Removed Staff Involved columns: As they're text-based and not directly predictive for our modeling purposes.\n",
        "- Standardized the numerical columns: This ensures all staffing numbers across departments are on a similar scale, with a mean of 0 and a standard deviation of 1, which is crucial for many ML algorithms."
      ]
    },
    {
      "cell_type": "markdown",
      "id": "61b8f75f-f3df-4eb6-9946-5cbaae6fd667",
      "metadata": {
        "id": "61b8f75f-f3df-4eb6-9946-5cbaae6fd667"
      },
      "source": [
        "## Model Selection and Comparative Analysis"
      ]
    },
    {
      "cell_type": "markdown",
      "id": "04ea25ae-d3b7-4c4a-b6e6-f9f139e93e56",
      "metadata": {
        "id": "04ea25ae-d3b7-4c4a-b6e6-f9f139e93e56"
      },
      "source": [
        "## K-Means Clustering"
      ]
    },
    {
      "cell_type": "code",
      "execution_count": null,
      "id": "c1ce0b3c-683c-4c85-bb05-47606aba766e",
      "metadata": {
        "id": "c1ce0b3c-683c-4c85-bb05-47606aba766e",
        "outputId": "6ad0e62b-b1b8-405f-fc26-faf7e2cedfa9"
      },
      "outputs": [
        {
          "name": "stderr",
          "output_type": "stream",
          "text": [
            "C:\\ProgramData\\anaconda3\\Lib\\site-packages\\sklearn\\cluster\\_kmeans.py:1382: UserWarning: KMeans is known to have a memory leak on Windows with MKL, when there are less chunks than available threads. You can avoid it by setting the environment variable OMP_NUM_THREADS=1.\n",
            "  warnings.warn(\n",
            "C:\\ProgramData\\anaconda3\\Lib\\site-packages\\sklearn\\cluster\\_kmeans.py:1382: UserWarning: KMeans is known to have a memory leak on Windows with MKL, when there are less chunks than available threads. You can avoid it by setting the environment variable OMP_NUM_THREADS=1.\n",
            "  warnings.warn(\n",
            "C:\\ProgramData\\anaconda3\\Lib\\site-packages\\sklearn\\cluster\\_kmeans.py:1382: UserWarning: KMeans is known to have a memory leak on Windows with MKL, when there are less chunks than available threads. You can avoid it by setting the environment variable OMP_NUM_THREADS=1.\n",
            "  warnings.warn(\n",
            "C:\\ProgramData\\anaconda3\\Lib\\site-packages\\sklearn\\cluster\\_kmeans.py:1382: UserWarning: KMeans is known to have a memory leak on Windows with MKL, when there are less chunks than available threads. You can avoid it by setting the environment variable OMP_NUM_THREADS=1.\n",
            "  warnings.warn(\n",
            "C:\\ProgramData\\anaconda3\\Lib\\site-packages\\sklearn\\cluster\\_kmeans.py:1382: UserWarning: KMeans is known to have a memory leak on Windows with MKL, when there are less chunks than available threads. You can avoid it by setting the environment variable OMP_NUM_THREADS=1.\n",
            "  warnings.warn(\n",
            "C:\\ProgramData\\anaconda3\\Lib\\site-packages\\sklearn\\cluster\\_kmeans.py:1382: UserWarning: KMeans is known to have a memory leak on Windows with MKL, when there are less chunks than available threads. You can avoid it by setting the environment variable OMP_NUM_THREADS=1.\n",
            "  warnings.warn(\n",
            "C:\\ProgramData\\anaconda3\\Lib\\site-packages\\sklearn\\cluster\\_kmeans.py:1382: UserWarning: KMeans is known to have a memory leak on Windows with MKL, when there are less chunks than available threads. You can avoid it by setting the environment variable OMP_NUM_THREADS=1.\n",
            "  warnings.warn(\n",
            "C:\\ProgramData\\anaconda3\\Lib\\site-packages\\sklearn\\cluster\\_kmeans.py:1382: UserWarning: KMeans is known to have a memory leak on Windows with MKL, when there are less chunks than available threads. You can avoid it by setting the environment variable OMP_NUM_THREADS=1.\n",
            "  warnings.warn(\n",
            "C:\\ProgramData\\anaconda3\\Lib\\site-packages\\sklearn\\cluster\\_kmeans.py:1382: UserWarning: KMeans is known to have a memory leak on Windows with MKL, when there are less chunks than available threads. You can avoid it by setting the environment variable OMP_NUM_THREADS=1.\n",
            "  warnings.warn(\n",
            "C:\\ProgramData\\anaconda3\\Lib\\site-packages\\sklearn\\cluster\\_kmeans.py:1382: UserWarning: KMeans is known to have a memory leak on Windows with MKL, when there are less chunks than available threads. You can avoid it by setting the environment variable OMP_NUM_THREADS=1.\n",
            "  warnings.warn(\n"
          ]
        },
        {
          "data": {
            "image/png": "[encoded data removed]",
            "text/plain": [
              "<Figure size 1000x600 with 1 Axes>"
            ]
          },
          "metadata": {},
          "output_type": "display_data"
        }
      ],
      "source": [
        "from sklearn.cluster import KMeans\n",
        "import matplotlib.pyplot as plt\n",
        "\n",
        "# Since df_preprocessed is not defined, we'll use the scaled training data (X_train_scaled) for clustering\n",
        "# Calculating WCSS (Within-Cluster-Sum-of-Squares) for different numbers of clusters\n",
        "wcss = []\n",
        "for i in range(1, 11):\n",
        "    kmeans = KMeans(n_clusters=i, init='k-means++', max_iter=300, n_init=10, random_state=42)\n",
        "    kmeans.fit(X_train_scaled)\n",
        "    wcss.append(kmeans.inertia_)\n",
        "\n",
        "# Plotting the results on a line graph to observe the 'Elbow'\n",
        "plt.figure(figsize=(10, 6))\n",
        "plt.plot(range(1, 11), wcss, marker='o')\n",
        "plt.title('Elbow Method for Determining Optimal Number of Clusters')\n",
        "plt.xlabel('Number of Clusters')\n",
        "plt.ylabel('WCSS')\n",
        "plt.grid(True)\n",
        "plt.show()\n"
      ]
    },
    {
      "cell_type": "markdown",
      "id": "32a87da0-2c15-4119-9ee3-bfcd73b3d62e",
      "metadata": {
        "id": "32a87da0-2c15-4119-9ee3-bfcd73b3d62e"
      },
      "source": [
        "## K-Means Clustering with Optimal Clusters"
      ]
    },
    {
      "cell_type": "code",
      "execution_count": null,
      "id": "21b5acaf-909d-4a6f-a946-6de68b73d2b0",
      "metadata": {
        "id": "21b5acaf-909d-4a6f-a946-6de68b73d2b0",
        "outputId": "53f850e1-6fcb-4710-f51e-07e2f4545b31"
      },
      "outputs": [
        {
          "name": "stderr",
          "output_type": "stream",
          "text": [
            "C:\\ProgramData\\anaconda3\\Lib\\site-packages\\sklearn\\cluster\\_kmeans.py:1382: UserWarning: KMeans is known to have a memory leak on Windows with MKL, when there are less chunks than available threads. You can avoid it by setting the environment variable OMP_NUM_THREADS=1.\n",
            "  warnings.warn(\n"
          ]
        },
        {
          "data": {
            "text/html": [
              "<div>\n",
              "<style scoped>\n",
              "    .dataframe tbody tr th:only-of-type {\n",
              "        vertical-align: middle;\n",
              "    }\n",
              "\n",
              "    .dataframe tbody tr th {\n",
              "        vertical-align: top;\n",
              "    }\n",
              "\n",
              "    .dataframe thead th {\n",
              "        text-align: right;\n",
              "    }\n",
              "</style>\n",
              "<table border=\"1\" class=\"dataframe\">\n",
              "  <thead>\n",
              "    <tr style=\"text-align: right;\">\n",
              "      <th></th>\n",
              "      <th>ACF</th>\n",
              "      <th>ACL</th>\n",
              "      <th>AHRQ</th>\n",
              "      <th>ASPR</th>\n",
              "      <th>CDC</th>\n",
              "      <th>CMS</th>\n",
              "      <th>FDA</th>\n",
              "      <th>HRSA</th>\n",
              "      <th>IHS</th>\n",
              "      <th>NIH</th>\n",
              "      <th>OS</th>\n",
              "      <th>SAMHSA</th>\n",
              "      <th>TOTAL</th>\n",
              "      <th>Cluster</th>\n",
              "    </tr>\n",
              "  </thead>\n",
              "  <tbody>\n",
              "    <tr>\n",
              "      <th>0</th>\n",
              "      <td>-0.538537</td>\n",
              "      <td>-0.448178</td>\n",
              "      <td>-0.443058</td>\n",
              "      <td>-0.584279</td>\n",
              "      <td>-0.538889</td>\n",
              "      <td>0.352604</td>\n",
              "      <td>-0.560048</td>\n",
              "      <td>0.433622</td>\n",
              "      <td>-0.489258</td>\n",
              "      <td>-0.516150</td>\n",
              "      <td>0.341969</td>\n",
              "      <td>-0.450902</td>\n",
              "      <td>-0.414707</td>\n",
              "      <td>0</td>\n",
              "    </tr>\n",
              "    <tr>\n",
              "      <th>1</th>\n",
              "      <td>0.902981</td>\n",
              "      <td>-0.316178</td>\n",
              "      <td>-0.301254</td>\n",
              "      <td>0.791307</td>\n",
              "      <td>0.013377</td>\n",
              "      <td>-0.259292</td>\n",
              "      <td>1.473379</td>\n",
              "      <td>0.097435</td>\n",
              "      <td>-0.451748</td>\n",
              "      <td>-0.475040</td>\n",
              "      <td>0.376741</td>\n",
              "      <td>-0.450902</td>\n",
              "      <td>0.179680</td>\n",
              "      <td>2</td>\n",
              "    </tr>\n",
              "    <tr>\n",
              "      <th>2</th>\n",
              "      <td>-0.540797</td>\n",
              "      <td>-0.415178</td>\n",
              "      <td>-0.443058</td>\n",
              "      <td>-0.584279</td>\n",
              "      <td>-0.523521</td>\n",
              "      <td>-0.541830</td>\n",
              "      <td>-0.548417</td>\n",
              "      <td>-0.556190</td>\n",
              "      <td>1.739467</td>\n",
              "      <td>-0.516150</td>\n",
              "      <td>-0.575560</td>\n",
              "      <td>-0.450902</td>\n",
              "      <td>-0.088493</td>\n",
              "      <td>0</td>\n",
              "    </tr>\n",
              "    <tr>\n",
              "      <th>3</th>\n",
              "      <td>-0.529499</td>\n",
              "      <td>-0.448178</td>\n",
              "      <td>-0.388518</td>\n",
              "      <td>-0.205029</td>\n",
              "      <td>-0.398096</td>\n",
              "      <td>-0.486399</td>\n",
              "      <td>-0.517518</td>\n",
              "      <td>-0.464958</td>\n",
              "      <td>-0.210691</td>\n",
              "      <td>-0.481653</td>\n",
              "      <td>-0.458345</td>\n",
              "      <td>-0.296726</td>\n",
              "      <td>-0.459901</td>\n",
              "      <td>0</td>\n",
              "    </tr>\n",
              "    <tr>\n",
              "      <th>4</th>\n",
              "      <td>-0.538537</td>\n",
              "      <td>-0.448178</td>\n",
              "      <td>-0.443058</td>\n",
              "      <td>-0.581065</td>\n",
              "      <td>-0.557480</td>\n",
              "      <td>-0.541292</td>\n",
              "      <td>-0.559874</td>\n",
              "      <td>-0.556190</td>\n",
              "      <td>-0.500873</td>\n",
              "      <td>-0.515971</td>\n",
              "      <td>-0.581168</td>\n",
              "      <td>-0.446619</td>\n",
              "      <td>-0.592913</td>\n",
              "      <td>0</td>\n",
              "    </tr>\n",
              "  </tbody>\n",
              "</table>\n",
              "</div>"
            ],
            "text/plain": [
              "        ACF       ACL      AHRQ      ASPR       CDC       CMS       FDA  \\\n",
              "0 -0.538537 -0.448178 -0.443058 -0.584279 -0.538889  0.352604 -0.560048   \n",
              "1  0.902981 -0.316178 -0.301254  0.791307  0.013377 -0.259292  1.473379   \n",
              "2 -0.540797 -0.415178 -0.443058 -0.584279 -0.523521 -0.541830 -0.548417   \n",
              "3 -0.529499 -0.448178 -0.388518 -0.205029 -0.398096 -0.486399 -0.517518   \n",
              "4 -0.538537 -0.448178 -0.443058 -0.581065 -0.557480 -0.541292 -0.559874   \n",
              "\n",
              "       HRSA       IHS       NIH        OS    SAMHSA     TOTAL  Cluster  \n",
              "0  0.433622 -0.489258 -0.516150  0.341969 -0.450902 -0.414707        0  \n",
              "1  0.097435 -0.451748 -0.475040  0.376741 -0.450902  0.179680        2  \n",
              "2 -0.556190  1.739467 -0.516150 -0.575560 -0.450902 -0.088493        0  \n",
              "3 -0.464958 -0.210691 -0.481653 -0.458345 -0.296726 -0.459901        0  \n",
              "4 -0.556190 -0.500873 -0.515971 -0.581168 -0.446619 -0.592913        0  "
            ]
          },
          "execution_count": 18,
          "metadata": {},
          "output_type": "execute_result"
        }
      ],
      "source": [
        "# Fitting K-Means with the chosen number of clusters\n",
        "kmeans_optimal = KMeans(n_clusters=3, init='k-means++', max_iter=300, n_init=10, random_state=42)\n",
        "kmeans_optimal.fit(df_preprocessed)\n",
        "\n",
        "# Adding the cluster labels to our preprocessed DataFrame\n",
        "df_clusters = df_preprocessed.copy()\n",
        "df_clusters['Cluster'] = kmeans_optimal.labels_\n",
        "\n",
        "# Viewing the first few rows to confirm the cluster labels are added\n",
        "df_clusters.head()\n"
      ]
    },
    {
      "cell_type": "markdown",
      "id": "9b965476-72b4-4f49-833b-0b0bc47ef38e",
      "metadata": {
        "id": "9b965476-72b4-4f49-833b-0b0bc47ef38e"
      },
      "source": [
        "## Analyzing Cluster Characteristics"
      ]
    },
    {
      "cell_type": "code",
      "execution_count": null,
      "id": "91984106-91d6-4dc6-9371-a98ac43959a3",
      "metadata": {
        "id": "91984106-91d6-4dc6-9371-a98ac43959a3",
        "outputId": "f03bcb4b-8f3c-413e-e0ec-e7eebff137cb"
      },
      "outputs": [
        {
          "data": {
            "image/png": "[encoded data removed]",
            "text/plain": [
              "<Figure size 1000x800 with 1 Axes>"
            ]
          },
          "metadata": {},
          "output_type": "display_data"
        }
      ],
      "source": [
        "# Applying PCA\n",
        "\n",
        "from sklearn.decomposition import PCA\n",
        "\n",
        "# Applying PCA to reduce dimensions to 2 principal components\n",
        "pca = PCA(n_components=2)\n",
        "principal_components = pca.fit_transform(df_preprocessed)\n",
        "\n",
        "# Creating a DataFrame with the 2 principal components\n",
        "df_pca = pd.DataFrame(data=principal_components, columns=['Principal Component 1', 'Principal Component 2'])\n",
        "\n",
        "# Adding the cluster labels for coloring\n",
        "df_pca['Cluster'] = kmeans_optimal.labels_\n",
        "\n",
        "# Plotting the 2 principal components, colored by cluster\n",
        "plt.figure(figsize=(10, 8))\n",
        "sns.scatterplot(x='Principal Component 1', y='Principal Component 2', hue='Cluster', palette='bright', data=df_pca, legend=\"full\")\n",
        "plt.title('PCA of Staffing Levels Data Colored by K-Means Clusters')\n",
        "plt.xlabel('Principal Component 1')\n",
        "plt.ylabel('Principal Component 2')\n",
        "plt.legend(title='Cluster')\n",
        "plt.show()\n"
      ]
    },
    {
      "cell_type": "markdown",
      "id": "2dae0d8d-b1fe-4a1e-ae39-9e0a1d37ceca",
      "metadata": {
        "id": "2dae0d8d-b1fe-4a1e-ae39-9e0a1d37ceca"
      },
      "source": [
        "## Observations:\n",
        "- The distribution of points in the PCA space may reveal patterns or separations among the clusters. If clusters are well-separated, it indicates that K-Means did a good job at identifying distinct groups within the data.\n",
        "- Overlapping clusters might suggest more nuanced relationships between data points that a simple K-Means clustering might not fully capture."
      ]
    },
    {
      "cell_type": "markdown",
      "id": "51c2137b-e8d8-4991-ba17-7dc63916c432",
      "metadata": {
        "id": "51c2137b-e8d8-4991-ba17-7dc63916c432"
      },
      "source": [
        "## Hierarchical Clustering"
      ]
    },
    {
      "cell_type": "code",
      "execution_count": null,
      "id": "5bc8df0b-194a-4c8b-9b1a-52de6f9602b4",
      "metadata": {
        "id": "5bc8df0b-194a-4c8b-9b1a-52de6f9602b4",
        "outputId": "a3880e1b-3026-45a4-f18c-aee4876e5d21"
      },
      "outputs": [
        {
          "data": {
            "image/png": "[encoded data removed]",
            "text/plain": [
              "<Figure size 1400x1000 with 1 Axes>"
            ]
          },
          "metadata": {},
          "output_type": "display_data"
        }
      ],
      "source": [
        "from scipy.cluster.hierarchy import dendrogram, linkage\n",
        "\n",
        "# Generating the linkage matrix for hierarchical clustering\n",
        "Z = linkage(df_preprocessed, 'ward')\n",
        "\n",
        "# Plotting the dendrogram\n",
        "plt.figure(figsize=(14, 10))\n",
        "dendrogram(Z, no_labels=True)  # We're omitting labels for clarity\n",
        "plt.title('Hierarchical Clustering Dendrogram')\n",
        "plt.xlabel('Data Points')\n",
        "plt.ylabel('Distance')\n",
        "plt.show()\n"
      ]
    },
    {
      "cell_type": "code",
      "execution_count": null,
      "id": "b58669e5-69ae-4230-b666-e8a06ad64646",
      "metadata": {
        "id": "b58669e5-69ae-4230-b666-e8a06ad64646"
      },
      "outputs": [],
      "source": []
    },
    {
      "cell_type": "markdown",
      "id": "14ac9889-9861-4a4d-94aa-ce4ad4bdb47a",
      "metadata": {
        "id": "14ac9889-9861-4a4d-94aa-ce4ad4bdb47a"
      },
      "source": [
        "## Observations:\n",
        "\n",
        "\n",
        "- By examining the dendrogram, we can determine the number of clusters by identifying the longest vertical distance that we can draw without crossing horizontal lines. However, the specific choice can vary depending on the level of granularity we're interested in.\n",
        "-\n",
        "This hierarchical view complements the insights gained from K-Means clustering and PCA by providing a more nuanced understanding of the dataset's structure\n",
        "\n",
        ".\n",
        "With the completion of hierarchical clustering and having explored K-Means clustering and PCA, we've gained a multi-faceted view of our dataset's structure. Each method offers unique insights—K-Means for defining clear clusters, PCA for dimensionality reduction and visualization, and Hierarchical Clustering for understanding the data's layered structure."
      ]
    },
    {
      "cell_type": "markdown",
      "id": "f7deec0d-65c7-46a6-b453-704fe93183ce",
      "metadata": {
        "id": "f7deec0d-65c7-46a6-b453-704fe93183ce"
      },
      "source": [
        "# Comparative Analysis of the Models\n",
        "\n",
        "The application of K-Means Clustering, Principal Component Analysis (PCA), and Hierarchical Clustering on the dataset provides insights from different perspectives. Each model serves a distinct purpose in data analysis, offering valuable insights into clustering, dimensionality reduction, and the hierarchical structure of data.\n",
        "\n",
        "## K-Means Clustering\n",
        "\n",
        "### Purpose\n",
        "Identifies distinct groups within the data based on feature similarity.\n",
        "\n",
        "### Strengths\n",
        "- Easy to implement and interpret.\n",
        "- Efficient on large datasets.\n",
        "\n",
        "### Weaknesses\n",
        "- Requires specifying the number of clusters beforehand.\n",
        "- Assumes clusters are spherical and equally sized.\n",
        "\n",
        "### Insights\n",
        "Provided a straightforward way to segment departments based on staffing characteristics, offering clear insights into potential operational clusters.\n",
        "\n",
        "## Principal Component Analysis (PCA)\n",
        "\n",
        "### Purpose\n",
        "Reduces the dimensionality of the data while retaining most variation, aiding in visualization and analysis of high-dimensional data.\n",
        "\n",
        "### Strengths\n",
        "- Simplifies data exploration and visualization.\n",
        "- Improves ML model performance by eliminating multicollinearity.\n",
        "\n",
        "### Weaknesses\n",
        "- Principal components can be difficult to interpret.\n",
        "- Sensitive to the scaling of variables.\n",
        "\n",
        "### Insights\n",
        "Enabled visualization in a lower-dimensional space, revealing patterns and helping understand the main factors driving staffing levels.\n",
        "\n",
        "## Hierarchical Clustering\n",
        "\n",
        "### Purpose\n",
        "Builds a hierarchy of clusters to provide a detailed view of the data's clustering structure.\n",
        "\n",
        "### Strengths\n",
        "- No need to pre-specify the number of clusters.\n",
        "- The dendrogram provides a visual summary of the clustering process.\n",
        "\n",
        "### Weaknesses\n",
        "- Can be computationally expensive for large datasets.\n",
        "- The choice of linkage criteria and deciding on the number of clusters can be subjective.\n",
        "\n",
        "### Insights\n",
        "Offered a hierarchical perspective on department groupings, allowing for flexibility in determining clustering granularity, useful for understanding organizational structure or planning.\n",
        "\n",
        "## Summary\n",
        "\n",
        "- **K-Means Clustering** is best for partitioning the dataset into distinct groups when the number of clusters is known or can be estimated.\n",
        "- **PCA** is beneficial for dimensionality reduction, either for visualization purposes or as a preprocessing step to improve machine learning model performance.\n",
        "- **Hierarchical Clustering** excels in exploratory analysis when understanding the data’s structure and relationships in detail is desired, offering flexibility in viewing data at different levels of granularity.\n"
      ]
    },
    {
      "cell_type": "code",
      "execution_count": null,
      "id": "f1c1edc4-60db-4840-9ff4-db67ee53ddc1",
      "metadata": {
        "id": "f1c1edc4-60db-4840-9ff4-db67ee53ddc1"
      },
      "outputs": [],
      "source": []
    }
  ],
  "metadata": {
    "kernelspec": {
      "display_name": "Python 3 (ipykernel)",
      "language": "python",
      "name": "python3"
    },
    "language_info": {
      "codemirror_mode": {
        "name": "ipython",
        "version": 3
      },
      "file_extension": ".py",
      "mimetype": "text/x-python",
      "name": "python",
      "nbconvert_exporter": "python",
      "pygments_lexer": "ipython3",
      "version": "3.11.7"
    },
    "colab": {
      "provenance": []
    }
  },
  "nbformat": 4,
  "nbformat_minor": 5
}